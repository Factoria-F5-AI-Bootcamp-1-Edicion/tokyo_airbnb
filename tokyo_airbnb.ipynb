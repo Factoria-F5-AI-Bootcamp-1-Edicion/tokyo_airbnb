{
 "cells": [
  {
   "cell_type": "markdown",
   "id": "b093174a",
   "metadata": {},
   "source": [
    "# Análisis y visualización de datos de Tokyo_Airbnb "
   ]
  },
  {
   "cell_type": "markdown",
   "id": "d929283e",
   "metadata": {},
   "source": [
    "<img src=\"https://upload.wikimedia.org/wikipedia/commons/6/69/Airbnb_Logo_B%C3%A9lo.svg\" style= \"height:150px;float:left;\">"
   ]
  },
  {
   "cell_type": "markdown",
   "id": "2293d964",
   "metadata": {},
   "source": [
    "### Fases"
   ]
  },
  {
   "cell_type": "markdown",
   "id": "961d57e8",
   "metadata": {},
   "source": [
    "#### 1. Descripción de los datos"
   ]
  },
  {
   "cell_type": "markdown",
   "id": "4bf6982c",
   "metadata": {},
   "source": [
    "#### 2. Verificar calidad de datos"
   ]
  },
  {
   "cell_type": "markdown",
   "id": "2fa2d93f",
   "metadata": {},
   "source": [
    "#### 5. Limpiar datos (amputación e imputación)"
   ]
  },
  {
   "cell_type": "markdown",
   "id": "f9bef2ed",
   "metadata": {},
   "source": [
    "#### 6. Construir el modelo"
   ]
  },
  {
   "cell_type": "markdown",
   "id": "0fdbfa91",
   "metadata": {},
   "source": [
    "#### 7. Evaluar el modelo"
   ]
  },
  {
   "cell_type": "markdown",
   "id": "4c6a3584",
   "metadata": {},
   "source": [
    "#### 8. Evaluar los resultados"
   ]
  },
  {
   "cell_type": "code",
   "execution_count": 11,
   "id": "254d33f3",
   "metadata": {},
   "outputs": [],
   "source": [
    "import numpy as np\n",
    "import pandas as pd\n",
    "import seaborn as sns\n",
    "import geopandas as gpd #geopandas es un paquete de desarrollo dedicado a describir ubicaciones geográficas, además necesita saber sobre geohash\n",
    "import matplotlib.pyplot as plt\n",
    "from IPython.display import HTML"
   ]
  },
  {
   "cell_type": "code",
   "execution_count": 7,
   "id": "3b6e5506",
   "metadata": {},
   "outputs": [],
   "source": [
    "#leer datos\n",
    "datos = pd.read_csv('tokyo_airbnb.csv')"
   ]
  },
  {
   "cell_type": "markdown",
   "id": "967efacf",
   "metadata": {},
   "source": [
    "# Exploración básica del dataset"
   ]
  },
  {
   "cell_type": "code",
   "execution_count": 5,
   "id": "f3841fa4",
   "metadata": {},
   "outputs": [
    {
     "data": {
      "text/html": [
       "<div>\n",
       "<style scoped>\n",
       "    .dataframe tbody tr th:only-of-type {\n",
       "        vertical-align: middle;\n",
       "    }\n",
       "\n",
       "    .dataframe tbody tr th {\n",
       "        vertical-align: top;\n",
       "    }\n",
       "\n",
       "    .dataframe thead th {\n",
       "        text-align: right;\n",
       "    }\n",
       "</style>\n",
       "<table border=\"1\" class=\"dataframe\">\n",
       "  <thead>\n",
       "    <tr style=\"text-align: right;\">\n",
       "      <th></th>\n",
       "      <th>id</th>\n",
       "      <th>name</th>\n",
       "      <th>host_id</th>\n",
       "      <th>host_name</th>\n",
       "      <th>neighbourhood_group</th>\n",
       "      <th>neighbourhood</th>\n",
       "      <th>latitude</th>\n",
       "      <th>longitude</th>\n",
       "      <th>room_type</th>\n",
       "      <th>price</th>\n",
       "      <th>minimum_nights</th>\n",
       "      <th>number_of_reviews</th>\n",
       "      <th>last_review</th>\n",
       "      <th>reviews_per_month</th>\n",
       "    </tr>\n",
       "  </thead>\n",
       "  <tbody>\n",
       "    <tr>\n",
       "      <th>0</th>\n",
       "      <td>35303</td>\n",
       "      <td>La Casa Gaienmae C Harajuku, Omotesando is nearby</td>\n",
       "      <td>151977</td>\n",
       "      <td>Miyuki</td>\n",
       "      <td>NaN</td>\n",
       "      <td>Shibuya Ku</td>\n",
       "      <td>35.67152</td>\n",
       "      <td>139.71203</td>\n",
       "      <td>Private room</td>\n",
       "      <td>4196</td>\n",
       "      <td>28</td>\n",
       "      <td>18</td>\n",
       "      <td>2018-07-28</td>\n",
       "      <td>0.20</td>\n",
       "    </tr>\n",
       "    <tr>\n",
       "      <th>1</th>\n",
       "      <td>197677</td>\n",
       "      <td>Oshiage Holiday Apartment</td>\n",
       "      <td>964081</td>\n",
       "      <td>Yoshimi &amp; Marek</td>\n",
       "      <td>NaN</td>\n",
       "      <td>Sumida Ku</td>\n",
       "      <td>35.71721</td>\n",
       "      <td>139.82596</td>\n",
       "      <td>Entire home/apt</td>\n",
       "      <td>10975</td>\n",
       "      <td>3</td>\n",
       "      <td>156</td>\n",
       "      <td>2019-05-21</td>\n",
       "      <td>1.65</td>\n",
       "    </tr>\n",
       "    <tr>\n",
       "      <th>2</th>\n",
       "      <td>289597</td>\n",
       "      <td>Private apt in central Tokyo #203</td>\n",
       "      <td>341577</td>\n",
       "      <td>Hide&amp;Kei</td>\n",
       "      <td>NaN</td>\n",
       "      <td>Nerima Ku</td>\n",
       "      <td>35.74267</td>\n",
       "      <td>139.65810</td>\n",
       "      <td>Entire home/apt</td>\n",
       "      <td>4196</td>\n",
       "      <td>30</td>\n",
       "      <td>107</td>\n",
       "      <td>2019-05-25</td>\n",
       "      <td>1.25</td>\n",
       "    </tr>\n",
       "    <tr>\n",
       "      <th>3</th>\n",
       "      <td>370759</td>\n",
       "      <td>Cozy flat #203, local area YET 10 mins to shib...</td>\n",
       "      <td>1573631</td>\n",
       "      <td>Gilles,Mayumi,Taiki</td>\n",
       "      <td>NaN</td>\n",
       "      <td>Setagaya Ku</td>\n",
       "      <td>35.66344</td>\n",
       "      <td>139.65593</td>\n",
       "      <td>Entire home/apt</td>\n",
       "      <td>6994</td>\n",
       "      <td>29</td>\n",
       "      <td>99</td>\n",
       "      <td>2019-05-07</td>\n",
       "      <td>1.55</td>\n",
       "    </tr>\n",
       "    <tr>\n",
       "      <th>4</th>\n",
       "      <td>700253</td>\n",
       "      <td>Private apt in central Tokyo #201</td>\n",
       "      <td>341577</td>\n",
       "      <td>Hide&amp;Kei</td>\n",
       "      <td>NaN</td>\n",
       "      <td>Nerima Ku</td>\n",
       "      <td>35.74264</td>\n",
       "      <td>139.65832</td>\n",
       "      <td>Entire home/apt</td>\n",
       "      <td>3981</td>\n",
       "      <td>30</td>\n",
       "      <td>101</td>\n",
       "      <td>2019-05-03</td>\n",
       "      <td>1.24</td>\n",
       "    </tr>\n",
       "    <tr>\n",
       "      <th>...</th>\n",
       "      <td>...</td>\n",
       "      <td>...</td>\n",
       "      <td>...</td>\n",
       "      <td>...</td>\n",
       "      <td>...</td>\n",
       "      <td>...</td>\n",
       "      <td>...</td>\n",
       "      <td>...</td>\n",
       "      <td>...</td>\n",
       "      <td>...</td>\n",
       "      <td>...</td>\n",
       "      <td>...</td>\n",
       "      <td>...</td>\n",
       "      <td>...</td>\n",
       "    </tr>\n",
       "    <tr>\n",
       "      <th>11461</th>\n",
       "      <td>36083287</td>\n",
       "      <td>1min to station · Skytree/Tatami hotel/new design</td>\n",
       "      <td>235406925</td>\n",
       "      <td>Sayoko佐代子</td>\n",
       "      <td>NaN</td>\n",
       "      <td>Sumida Ku</td>\n",
       "      <td>35.70862</td>\n",
       "      <td>139.81393</td>\n",
       "      <td>Entire home/apt</td>\n",
       "      <td>21951</td>\n",
       "      <td>1</td>\n",
       "      <td>0</td>\n",
       "      <td>NaN</td>\n",
       "      <td>NaN</td>\n",
       "    </tr>\n",
       "    <tr>\n",
       "      <th>11462</th>\n",
       "      <td>36083512</td>\n",
       "      <td>Asakusa Wired house 5pax near by UENO/AKIHABARA</td>\n",
       "      <td>267481408</td>\n",
       "      <td>Hyongsu</td>\n",
       "      <td>NaN</td>\n",
       "      <td>Taito Ku</td>\n",
       "      <td>35.72464</td>\n",
       "      <td>139.78078</td>\n",
       "      <td>Entire home/apt</td>\n",
       "      <td>7747</td>\n",
       "      <td>1</td>\n",
       "      <td>0</td>\n",
       "      <td>NaN</td>\n",
       "      <td>NaN</td>\n",
       "    </tr>\n",
       "    <tr>\n",
       "      <th>11463</th>\n",
       "      <td>36084566</td>\n",
       "      <td>东京精品民宿</td>\n",
       "      <td>161702799</td>\n",
       "      <td>Yang</td>\n",
       "      <td>NaN</td>\n",
       "      <td>Toshima Ku</td>\n",
       "      <td>35.73587</td>\n",
       "      <td>139.73397</td>\n",
       "      <td>Private room</td>\n",
       "      <td>56275</td>\n",
       "      <td>1</td>\n",
       "      <td>0</td>\n",
       "      <td>NaN</td>\n",
       "      <td>NaN</td>\n",
       "    </tr>\n",
       "    <tr>\n",
       "      <th>11464</th>\n",
       "      <td>36085357</td>\n",
       "      <td>#4 DIRECT ACCESS TO DISNEY IN BUS! 3MIN TO STA...</td>\n",
       "      <td>208189463</td>\n",
       "      <td>Shotaro</td>\n",
       "      <td>NaN</td>\n",
       "      <td>Edogawa Ku</td>\n",
       "      <td>35.66255</td>\n",
       "      <td>139.87236</td>\n",
       "      <td>Entire home/apt</td>\n",
       "      <td>6456</td>\n",
       "      <td>1</td>\n",
       "      <td>0</td>\n",
       "      <td>NaN</td>\n",
       "      <td>NaN</td>\n",
       "    </tr>\n",
       "    <tr>\n",
       "      <th>11465</th>\n",
       "      <td>36086604</td>\n",
       "      <td>103号室:立地最高!駅近･買い物便利!改装したばかりの綺麗な和室です｡</td>\n",
       "      <td>254667806</td>\n",
       "      <td>新東明</td>\n",
       "      <td>NaN</td>\n",
       "      <td>Shinjuku Ku</td>\n",
       "      <td>35.69889</td>\n",
       "      <td>139.70544</td>\n",
       "      <td>Private room</td>\n",
       "      <td>7962</td>\n",
       "      <td>2</td>\n",
       "      <td>0</td>\n",
       "      <td>NaN</td>\n",
       "      <td>NaN</td>\n",
       "    </tr>\n",
       "  </tbody>\n",
       "</table>\n",
       "<p>11466 rows × 14 columns</p>\n",
       "</div>"
      ],
      "text/plain": [
       "             id                                               name    host_id  \\\n",
       "0         35303  La Casa Gaienmae C Harajuku, Omotesando is nearby     151977   \n",
       "1        197677                          Oshiage Holiday Apartment     964081   \n",
       "2        289597                  Private apt in central Tokyo #203     341577   \n",
       "3        370759  Cozy flat #203, local area YET 10 mins to shib...    1573631   \n",
       "4        700253                  Private apt in central Tokyo #201     341577   \n",
       "...         ...                                                ...        ...   \n",
       "11461  36083287  1min to station · Skytree/Tatami hotel/new design  235406925   \n",
       "11462  36083512    Asakusa Wired house 5pax near by UENO/AKIHABARA  267481408   \n",
       "11463  36084566                                             东京精品民宿  161702799   \n",
       "11464  36085357  #4 DIRECT ACCESS TO DISNEY IN BUS! 3MIN TO STA...  208189463   \n",
       "11465  36086604               103号室:立地最高!駅近･買い物便利!改装したばかりの綺麗な和室です｡  254667806   \n",
       "\n",
       "                 host_name  neighbourhood_group neighbourhood  latitude  \\\n",
       "0                   Miyuki                  NaN    Shibuya Ku  35.67152   \n",
       "1          Yoshimi & Marek                  NaN     Sumida Ku  35.71721   \n",
       "2                 Hide&Kei                  NaN     Nerima Ku  35.74267   \n",
       "3      Gilles,Mayumi,Taiki                  NaN   Setagaya Ku  35.66344   \n",
       "4                 Hide&Kei                  NaN     Nerima Ku  35.74264   \n",
       "...                    ...                  ...           ...       ...   \n",
       "11461            Sayoko佐代子                  NaN     Sumida Ku  35.70862   \n",
       "11462              Hyongsu                  NaN      Taito Ku  35.72464   \n",
       "11463                 Yang                  NaN    Toshima Ku  35.73587   \n",
       "11464              Shotaro                  NaN    Edogawa Ku  35.66255   \n",
       "11465                  新東明                  NaN   Shinjuku Ku  35.69889   \n",
       "\n",
       "       longitude        room_type  price  minimum_nights  number_of_reviews  \\\n",
       "0      139.71203     Private room   4196              28                 18   \n",
       "1      139.82596  Entire home/apt  10975               3                156   \n",
       "2      139.65810  Entire home/apt   4196              30                107   \n",
       "3      139.65593  Entire home/apt   6994              29                 99   \n",
       "4      139.65832  Entire home/apt   3981              30                101   \n",
       "...          ...              ...    ...             ...                ...   \n",
       "11461  139.81393  Entire home/apt  21951               1                  0   \n",
       "11462  139.78078  Entire home/apt   7747               1                  0   \n",
       "11463  139.73397     Private room  56275               1                  0   \n",
       "11464  139.87236  Entire home/apt   6456               1                  0   \n",
       "11465  139.70544     Private room   7962               2                  0   \n",
       "\n",
       "      last_review  reviews_per_month  \n",
       "0      2018-07-28               0.20  \n",
       "1      2019-05-21               1.65  \n",
       "2      2019-05-25               1.25  \n",
       "3      2019-05-07               1.55  \n",
       "4      2019-05-03               1.24  \n",
       "...           ...                ...  \n",
       "11461         NaN                NaN  \n",
       "11462         NaN                NaN  \n",
       "11463         NaN                NaN  \n",
       "11464         NaN                NaN  \n",
       "11465         NaN                NaN  \n",
       "\n",
       "[11466 rows x 14 columns]"
      ]
     },
     "execution_count": 5,
     "metadata": {},
     "output_type": "execute_result"
    }
   ],
   "source": [
    "datos"
   ]
  },
  {
   "cell_type": "code",
   "execution_count": 12,
   "id": "7675a030",
   "metadata": {},
   "outputs": [
    {
     "name": "stdout",
     "output_type": "stream",
     "text": [
      "<class 'pandas.core.frame.DataFrame'>\n",
      "RangeIndex: 11466 entries, 0 to 11465\n",
      "Data columns (total 14 columns):\n",
      " #   Column               Non-Null Count  Dtype  \n",
      "---  ------               --------------  -----  \n",
      " 0   id                   11466 non-null  int64  \n",
      " 1   name                 11466 non-null  object \n",
      " 2   host_id              11466 non-null  int64  \n",
      " 3   host_name            11450 non-null  object \n",
      " 4   neighbourhood_group  0 non-null      float64\n",
      " 5   neighbourhood        11466 non-null  object \n",
      " 6   latitude             11466 non-null  float64\n",
      " 7   longitude            11466 non-null  float64\n",
      " 8   room_type            11466 non-null  object \n",
      " 9   price                11466 non-null  int64  \n",
      " 10  minimum_nights       11466 non-null  int64  \n",
      " 11  number_of_reviews    11466 non-null  int64  \n",
      " 12  last_review          9789 non-null   object \n",
      " 13  reviews_per_month    9789 non-null   float64\n",
      "dtypes: float64(4), int64(5), object(5)\n",
      "memory usage: 1.2+ MB\n"
     ]
    }
   ],
   "source": [
    "datos.info()"
   ]
  },
  {
   "cell_type": "markdown",
   "id": "2f06f388",
   "metadata": {},
   "source": [
    "#### Descubierto por una simple descripción de los datos:\n",
    "\n",
    "##### 1.Hay 14 columnas de características en total, cada una con11466 datos.\n",
    "##### 2.Hay 4 columnas con algún grado de falta (host_name/neighbourhood_group/last_review/reviews_per_month)"
   ]
  },
  {
   "cell_type": "markdown",
   "id": "c0079c16",
   "metadata": {},
   "source": [
    "### Primero, un procesamiento simple y descripción de algunas características."
   ]
  },
  {
   "cell_type": "code",
   "execution_count": 14,
   "id": "7e0d5166",
   "metadata": {},
   "outputs": [
    {
     "data": {
      "text/plain": [
       "array(['Private room', 'Entire home/apt', 'Shared room'], dtype=object)"
      ]
     },
     "execution_count": 14,
     "metadata": {},
     "output_type": "execute_result"
    }
   ],
   "source": [
    "# Hay tres tipos de habitaciones en total: conjunto completo, habitación individual y habitación para varias personas\n",
    "datos['room_type'].unique()"
   ]
  },
  {
   "cell_type": "code",
   "execution_count": 15,
   "id": "55d4b17e",
   "metadata": {},
   "outputs": [
    {
     "data": {
      "text/plain": [
       "<BarContainer object of 3 artists>"
      ]
     },
     "execution_count": 15,
     "metadata": {},
     "output_type": "execute_result"
    },
    {
     "data": {
      "image/png": "[encoded data removed]",
      "text/plain": [
       "<Figure size 432x288 with 1 Axes>"
      ]
     },
     "metadata": {
      "needs_background": "light"
     },
     "output_type": "display_data"
    }
   ],
   "source": [
    "#El análisis de las salas muestra que la mayoría de ellas se alquilan en conjunto, y pocas salas públicas se alquilan.\n",
    "plt.subplot(311)\n",
    "data = datos['room_type'].value_counts().tolist()\n",
    "a = datos['room_type'].unique()\n",
    "plt.bar(x=a, height=data)"
   ]
  },
  {
   "cell_type": "code",
   "execution_count": 16,
   "id": "272cbbb7",
   "metadata": {},
   "outputs": [
    {
     "data": {
      "text/html": [
       "<div>\n",
       "<style scoped>\n",
       "    .dataframe tbody tr th:only-of-type {\n",
       "        vertical-align: middle;\n",
       "    }\n",
       "\n",
       "    .dataframe tbody tr th {\n",
       "        vertical-align: top;\n",
       "    }\n",
       "\n",
       "    .dataframe thead th {\n",
       "        text-align: right;\n",
       "    }\n",
       "</style>\n",
       "<table border=\"1\" class=\"dataframe\">\n",
       "  <thead>\n",
       "    <tr style=\"text-align: right;\">\n",
       "      <th></th>\n",
       "      <th>name</th>\n",
       "    </tr>\n",
       "    <tr>\n",
       "      <th>host_name</th>\n",
       "      <th></th>\n",
       "    </tr>\n",
       "  </thead>\n",
       "  <tbody>\n",
       "    <tr>\n",
       "      <th>M-1 Tokyo</th>\n",
       "      <td>133</td>\n",
       "    </tr>\n",
       "    <tr>\n",
       "      <th>Hiroshi</th>\n",
       "      <td>103</td>\n",
       "    </tr>\n",
       "    <tr>\n",
       "      <th>Hiro</th>\n",
       "      <td>78</td>\n",
       "    </tr>\n",
       "    <tr>\n",
       "      <th>Yuka</th>\n",
       "      <td>77</td>\n",
       "    </tr>\n",
       "    <tr>\n",
       "      <th>Plays</th>\n",
       "      <td>76</td>\n",
       "    </tr>\n",
       "    <tr>\n",
       "      <th>...</th>\n",
       "      <td>...</td>\n",
       "    </tr>\n",
       "    <tr>\n",
       "      <th>Takaaki</th>\n",
       "      <td>1</td>\n",
       "    </tr>\n",
       "    <tr>\n",
       "      <th>Takahiko</th>\n",
       "      <td>1</td>\n",
       "    </tr>\n",
       "    <tr>\n",
       "      <th>Takako</th>\n",
       "      <td>1</td>\n",
       "    </tr>\n",
       "    <tr>\n",
       "      <th>Takamitsu</th>\n",
       "      <td>1</td>\n",
       "    </tr>\n",
       "    <tr>\n",
       "      <th>Rei And Hiro</th>\n",
       "      <td>1</td>\n",
       "    </tr>\n",
       "  </tbody>\n",
       "</table>\n",
       "<p>2054 rows × 1 columns</p>\n",
       "</div>"
      ],
      "text/plain": [
       "              name\n",
       "host_name         \n",
       "M-1 Tokyo      133\n",
       "Hiroshi        103\n",
       "Hiro            78\n",
       "Yuka            77\n",
       "Plays           76\n",
       "...            ...\n",
       "Takaaki          1\n",
       "Takahiko         1\n",
       "Takako           1\n",
       "Takamitsu        1\n",
       "Rei And Hiro     1\n",
       "\n",
       "[2054 rows x 1 columns]"
      ]
     },
     "execution_count": 16,
     "metadata": {},
     "output_type": "execute_result"
    }
   ],
   "source": [
    "#Se puede ver que host_name está relativamente concentrado, lo que puede confirmar la conclusión extraída en las listas de host_calculadas en el tipo continuo anterior.Vamos a verlo en detalle.\n",
    "datos[['host_name','name']].groupby('host_name').count().sort_values(by='name', ascending=False)"
   ]
  },
  {
   "cell_type": "code",
   "execution_count": 17,
   "id": "c20806d3",
   "metadata": {},
   "outputs": [
    {
     "data": {
      "text/plain": [
       "Shinjuku Ku            1882\n",
       "Taito Ku               1670\n",
       "Toshima Ku             1228\n",
       "Sumida Ku               879\n",
       "Shibuya Ku              854\n",
       "Ota Ku                  598\n",
       "Minato Ku               551\n",
       "Chuo Ku                 448\n",
       "Setagaya Ku             305\n",
       "Suginami Ku             299\n",
       "Nakano Ku               290\n",
       "Katsushika Ku           280\n",
       "Arakawa Ku              279\n",
       "Itabashi Ku             237\n",
       "Kita Ku                 217\n",
       "Edogawa Ku              201\n",
       "Chiyoda Ku              198\n",
       "Adachi Ku               172\n",
       "Shinagawa Ku            170\n",
       "Koto Ku                 152\n",
       "Bunkyo Ku               129\n",
       "Meguro Ku                84\n",
       "Nerima Ku                62\n",
       "Hachioji Shi             37\n",
       "Machida Shi              24\n",
       "Oshima Machi             22\n",
       "Nishitokyo Shi           19\n",
       "Musashino Shi            18\n",
       "Hino Shi                 17\n",
       "Mitaka Shi               13\n",
       "Akiruno Shi              12\n",
       "Higashimurayama Shi      12\n",
       "Chofu Shi                11\n",
       "Kokubunji Shi             9\n",
       "Kodaira Shi               8\n",
       "Hachijo Machi             7\n",
       "Ome Shi                   7\n",
       "Ogasawara Mura            6\n",
       "Komae Shi                 6\n",
       "Tachikawa Shi             6\n",
       "Fussa Shi                 5\n",
       "Musashimurayama Shi       5\n",
       "Fuchu Shi                 4\n",
       "Tama Shi                  4\n",
       "Koganei Shi               4\n",
       "Hamura Shi                3\n",
       "Kunitachi Shi             3\n",
       "Niijima Mura              3\n",
       "Akishima Shi              3\n",
       "Okutama Machi             3\n",
       "Hinohara Mura             2\n",
       "Miyake Mura               2\n",
       "Inagi Shi                 2\n",
       "Higashikurume Shi         2\n",
       "Higashiyamato Shi         1\n",
       "Kozushima Mura            1\n",
       "Name: neighbourhood, dtype: int64"
      ]
     },
     "execution_count": 17,
     "metadata": {},
     "output_type": "execute_result"
    }
   ],
   "source": [
    "#La ubicación de la casa de familia está relativamente concentrada, aquí hay una mirada específica a las áreas\n",
    "datos['neighbourhood'].value_counts()"
   ]
  },
  {
   "cell_type": "code",
   "execution_count": 18,
   "id": "7d53d5cc",
   "metadata": {},
   "outputs": [
    {
     "data": {
      "text/plain": [
       "'Shinjuku Ku'"
      ]
     },
     "execution_count": 18,
     "metadata": {},
     "output_type": "execute_result"
    }
   ],
   "source": [
    "datos['neighbourhood'].value_counts().index[0]"
   ]
  },
  {
   "cell_type": "markdown",
   "id": "ccb80602",
   "metadata": {},
   "source": [
    "### La mayoría de las casas se concentran en el distrito de 'Shinjuku Ku', 'Taito Ku' y 'Toshima Ku'  .\n",
    "### El tipo de habitación se basa básicamente en todo el grupo, complementado con una habitación individual, hay menos habitaciones para varias personas"
   ]
  },
  {
   "cell_type": "markdown",
   "id": "0a46eddb",
   "metadata": {},
   "source": [
    "## Explorar Metas\n",
    "#### 1.Región (distribución, precio)\n",
    "#### 2.Casas de familia (top 10 casas de familia más populares, cuáles son las características de las casas de familia más populares)\n",
    "#### 3.Perspectiva del arrendador (clasificación de los tipos de arrendadores, estimaciones de los ingresos de los arrendadores)"
   ]
  },
  {
   "cell_type": "code",
   "execution_count": null,
   "id": "30b9a86f",
   "metadata": {},
   "outputs": [],
   "source": []
  }
 ],
 "metadata": {
  "kernelspec": {
   "display_name": "Python 3 (ipykernel)",
   "language": "python",
   "name": "python3"
  },
  "language_info": {
   "codemirror_mode": {
    "name": "ipython",
    "version": 3
   },
   "file_extension": ".py",
   "mimetype": "text/x-python",
   "name": "python",
   "nbconvert_exporter": "python",
   "pygments_lexer": "ipython3",
   "version": "3.9.13"
  }
 },
 "nbformat": 4,
 "nbformat_minor": 5
}
