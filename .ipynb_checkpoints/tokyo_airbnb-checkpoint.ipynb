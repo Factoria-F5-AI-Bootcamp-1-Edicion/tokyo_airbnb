{
 "cells": [
  {
   "cell_type": "markdown",
   "id": "59f71387",
   "metadata": {},
   "source": [
    "# Análisis y visualización de datos de Tokyo_Airbnb "
   ]
  },
  {
   "cell_type": "markdown",
   "id": "3448e0e3",
   "metadata": {},
   "source": [
    "<img src=\"https://upload.wikimedia.org/wikipedia/commons/6/69/Airbnb_Logo_B%C3%A9lo.svg\" style= \"height:150px;float:left;\">"
   ]
  },
  {
   "cell_type": "markdown",
   "id": "5c618e3f",
   "metadata": {},
   "source": [
    "# FASES"
   ]
  },
  {
   "cell_type": "markdown",
   "id": "2267bfee",
   "metadata": {},
   "source": [
    "## Fase 1. Entendimiento de datos"
   ]
  },
  {
   "cell_type": "markdown",
   "id": "d67229b4",
   "metadata": {},
   "source": [
    "# Importar librerias"
   ]
  },
  {
   "cell_type": "code",
   "execution_count": 9,
   "id": "83afa9c4",
   "metadata": {},
   "outputs": [],
   "source": [
    "import numpy as np\n",
    "import pandas as pd\n",
    "import seaborn as sns\n",
    "import matplotlib.pyplot as plt\n",
    "%matplotlib inline\n",
    "# import geopandas as gpd\n",
    "import plotly.express as px\n",
    "from IPython.display import HTML\n",
    "import plotly.io as pio"
   ]
  },
  {
   "cell_type": "markdown",
   "id": "e1442ef7",
   "metadata": {},
   "source": [
    "# Cargar y leer datos"
   ]
  },
  {
   "cell_type": "code",
   "execution_count": 10,
   "id": "c089ac32",
   "metadata": {
    "scrolled": true
   },
   "outputs": [
    {
     "ename": "FileNotFoundError",
     "evalue": "[Errno 2] No such file or directory: 'tokyo_airbnb.csv'",
     "output_type": "error",
     "traceback": [
      "\u001b[1;31m---------------------------------------------------------------------------\u001b[0m",
      "\u001b[1;31mFileNotFoundError\u001b[0m                         Traceback (most recent call last)",
      "Input \u001b[1;32mIn [10]\u001b[0m, in \u001b[0;36m<cell line: 1>\u001b[1;34m()\u001b[0m\n\u001b[1;32m----> 1\u001b[0m datos \u001b[38;5;241m=\u001b[39m \u001b[43mpd\u001b[49m\u001b[38;5;241;43m.\u001b[39;49m\u001b[43mread_csv\u001b[49m\u001b[43m(\u001b[49m\u001b[38;5;124;43m'\u001b[39;49m\u001b[38;5;124;43mtokyo_airbnb.csv\u001b[39;49m\u001b[38;5;124;43m'\u001b[39;49m\u001b[43m)\u001b[49m\n",
      "File \u001b[1;32m~\\miniconda3\\lib\\site-packages\\pandas\\util\\_decorators.py:311\u001b[0m, in \u001b[0;36mdeprecate_nonkeyword_arguments.<locals>.decorate.<locals>.wrapper\u001b[1;34m(*args, **kwargs)\u001b[0m\n\u001b[0;32m    305\u001b[0m \u001b[38;5;28;01mif\u001b[39;00m \u001b[38;5;28mlen\u001b[39m(args) \u001b[38;5;241m>\u001b[39m num_allow_args:\n\u001b[0;32m    306\u001b[0m     warnings\u001b[38;5;241m.\u001b[39mwarn(\n\u001b[0;32m    307\u001b[0m         msg\u001b[38;5;241m.\u001b[39mformat(arguments\u001b[38;5;241m=\u001b[39marguments),\n\u001b[0;32m    308\u001b[0m         \u001b[38;5;167;01mFutureWarning\u001b[39;00m,\n\u001b[0;32m    309\u001b[0m         stacklevel\u001b[38;5;241m=\u001b[39mstacklevel,\n\u001b[0;32m    310\u001b[0m     )\n\u001b[1;32m--> 311\u001b[0m \u001b[38;5;28;01mreturn\u001b[39;00m func(\u001b[38;5;241m*\u001b[39margs, \u001b[38;5;241m*\u001b[39m\u001b[38;5;241m*\u001b[39mkwargs)\n",
      "File \u001b[1;32m~\\miniconda3\\lib\\site-packages\\pandas\\io\\parsers\\readers.py:680\u001b[0m, in \u001b[0;36mread_csv\u001b[1;34m(filepath_or_buffer, sep, delimiter, header, names, index_col, usecols, squeeze, prefix, mangle_dupe_cols, dtype, engine, converters, true_values, false_values, skipinitialspace, skiprows, skipfooter, nrows, na_values, keep_default_na, na_filter, verbose, skip_blank_lines, parse_dates, infer_datetime_format, keep_date_col, date_parser, dayfirst, cache_dates, iterator, chunksize, compression, thousands, decimal, lineterminator, quotechar, quoting, doublequote, escapechar, comment, encoding, encoding_errors, dialect, error_bad_lines, warn_bad_lines, on_bad_lines, delim_whitespace, low_memory, memory_map, float_precision, storage_options)\u001b[0m\n\u001b[0;32m    665\u001b[0m kwds_defaults \u001b[38;5;241m=\u001b[39m _refine_defaults_read(\n\u001b[0;32m    666\u001b[0m     dialect,\n\u001b[0;32m    667\u001b[0m     delimiter,\n\u001b[1;32m   (...)\u001b[0m\n\u001b[0;32m    676\u001b[0m     defaults\u001b[38;5;241m=\u001b[39m{\u001b[38;5;124m\"\u001b[39m\u001b[38;5;124mdelimiter\u001b[39m\u001b[38;5;124m\"\u001b[39m: \u001b[38;5;124m\"\u001b[39m\u001b[38;5;124m,\u001b[39m\u001b[38;5;124m\"\u001b[39m},\n\u001b[0;32m    677\u001b[0m )\n\u001b[0;32m    678\u001b[0m kwds\u001b[38;5;241m.\u001b[39mupdate(kwds_defaults)\n\u001b[1;32m--> 680\u001b[0m \u001b[38;5;28;01mreturn\u001b[39;00m \u001b[43m_read\u001b[49m\u001b[43m(\u001b[49m\u001b[43mfilepath_or_buffer\u001b[49m\u001b[43m,\u001b[49m\u001b[43m \u001b[49m\u001b[43mkwds\u001b[49m\u001b[43m)\u001b[49m\n",
      "File \u001b[1;32m~\\miniconda3\\lib\\site-packages\\pandas\\io\\parsers\\readers.py:575\u001b[0m, in \u001b[0;36m_read\u001b[1;34m(filepath_or_buffer, kwds)\u001b[0m\n\u001b[0;32m    572\u001b[0m _validate_names(kwds\u001b[38;5;241m.\u001b[39mget(\u001b[38;5;124m\"\u001b[39m\u001b[38;5;124mnames\u001b[39m\u001b[38;5;124m\"\u001b[39m, \u001b[38;5;28;01mNone\u001b[39;00m))\n\u001b[0;32m    574\u001b[0m \u001b[38;5;66;03m# Create the parser.\u001b[39;00m\n\u001b[1;32m--> 575\u001b[0m parser \u001b[38;5;241m=\u001b[39m TextFileReader(filepath_or_buffer, \u001b[38;5;241m*\u001b[39m\u001b[38;5;241m*\u001b[39mkwds)\n\u001b[0;32m    577\u001b[0m \u001b[38;5;28;01mif\u001b[39;00m chunksize \u001b[38;5;129;01mor\u001b[39;00m iterator:\n\u001b[0;32m    578\u001b[0m     \u001b[38;5;28;01mreturn\u001b[39;00m parser\n",
      "File \u001b[1;32m~\\miniconda3\\lib\\site-packages\\pandas\\io\\parsers\\readers.py:934\u001b[0m, in \u001b[0;36mTextFileReader.__init__\u001b[1;34m(self, f, engine, **kwds)\u001b[0m\n\u001b[0;32m    931\u001b[0m     \u001b[38;5;28mself\u001b[39m\u001b[38;5;241m.\u001b[39moptions[\u001b[38;5;124m\"\u001b[39m\u001b[38;5;124mhas_index_names\u001b[39m\u001b[38;5;124m\"\u001b[39m] \u001b[38;5;241m=\u001b[39m kwds[\u001b[38;5;124m\"\u001b[39m\u001b[38;5;124mhas_index_names\u001b[39m\u001b[38;5;124m\"\u001b[39m]\n\u001b[0;32m    933\u001b[0m \u001b[38;5;28mself\u001b[39m\u001b[38;5;241m.\u001b[39mhandles: IOHandles \u001b[38;5;241m|\u001b[39m \u001b[38;5;28;01mNone\u001b[39;00m \u001b[38;5;241m=\u001b[39m \u001b[38;5;28;01mNone\u001b[39;00m\n\u001b[1;32m--> 934\u001b[0m \u001b[38;5;28mself\u001b[39m\u001b[38;5;241m.\u001b[39m_engine \u001b[38;5;241m=\u001b[39m \u001b[38;5;28;43mself\u001b[39;49m\u001b[38;5;241;43m.\u001b[39;49m\u001b[43m_make_engine\u001b[49m\u001b[43m(\u001b[49m\u001b[43mf\u001b[49m\u001b[43m,\u001b[49m\u001b[43m \u001b[49m\u001b[38;5;28;43mself\u001b[39;49m\u001b[38;5;241;43m.\u001b[39;49m\u001b[43mengine\u001b[49m\u001b[43m)\u001b[49m\n",
      "File \u001b[1;32m~\\miniconda3\\lib\\site-packages\\pandas\\io\\parsers\\readers.py:1218\u001b[0m, in \u001b[0;36mTextFileReader._make_engine\u001b[1;34m(self, f, engine)\u001b[0m\n\u001b[0;32m   1214\u001b[0m     mode \u001b[38;5;241m=\u001b[39m \u001b[38;5;124m\"\u001b[39m\u001b[38;5;124mrb\u001b[39m\u001b[38;5;124m\"\u001b[39m\n\u001b[0;32m   1215\u001b[0m \u001b[38;5;66;03m# error: No overload variant of \"get_handle\" matches argument types\u001b[39;00m\n\u001b[0;32m   1216\u001b[0m \u001b[38;5;66;03m# \"Union[str, PathLike[str], ReadCsvBuffer[bytes], ReadCsvBuffer[str]]\"\u001b[39;00m\n\u001b[0;32m   1217\u001b[0m \u001b[38;5;66;03m# , \"str\", \"bool\", \"Any\", \"Any\", \"Any\", \"Any\", \"Any\"\u001b[39;00m\n\u001b[1;32m-> 1218\u001b[0m \u001b[38;5;28mself\u001b[39m\u001b[38;5;241m.\u001b[39mhandles \u001b[38;5;241m=\u001b[39m \u001b[43mget_handle\u001b[49m\u001b[43m(\u001b[49m\u001b[43m  \u001b[49m\u001b[38;5;66;43;03m# type: ignore[call-overload]\u001b[39;49;00m\n\u001b[0;32m   1219\u001b[0m \u001b[43m    \u001b[49m\u001b[43mf\u001b[49m\u001b[43m,\u001b[49m\n\u001b[0;32m   1220\u001b[0m \u001b[43m    \u001b[49m\u001b[43mmode\u001b[49m\u001b[43m,\u001b[49m\n\u001b[0;32m   1221\u001b[0m \u001b[43m    \u001b[49m\u001b[43mencoding\u001b[49m\u001b[38;5;241;43m=\u001b[39;49m\u001b[38;5;28;43mself\u001b[39;49m\u001b[38;5;241;43m.\u001b[39;49m\u001b[43moptions\u001b[49m\u001b[38;5;241;43m.\u001b[39;49m\u001b[43mget\u001b[49m\u001b[43m(\u001b[49m\u001b[38;5;124;43m\"\u001b[39;49m\u001b[38;5;124;43mencoding\u001b[39;49m\u001b[38;5;124;43m\"\u001b[39;49m\u001b[43m,\u001b[49m\u001b[43m \u001b[49m\u001b[38;5;28;43;01mNone\u001b[39;49;00m\u001b[43m)\u001b[49m\u001b[43m,\u001b[49m\n\u001b[0;32m   1222\u001b[0m \u001b[43m    \u001b[49m\u001b[43mcompression\u001b[49m\u001b[38;5;241;43m=\u001b[39;49m\u001b[38;5;28;43mself\u001b[39;49m\u001b[38;5;241;43m.\u001b[39;49m\u001b[43moptions\u001b[49m\u001b[38;5;241;43m.\u001b[39;49m\u001b[43mget\u001b[49m\u001b[43m(\u001b[49m\u001b[38;5;124;43m\"\u001b[39;49m\u001b[38;5;124;43mcompression\u001b[39;49m\u001b[38;5;124;43m\"\u001b[39;49m\u001b[43m,\u001b[49m\u001b[43m \u001b[49m\u001b[38;5;28;43;01mNone\u001b[39;49;00m\u001b[43m)\u001b[49m\u001b[43m,\u001b[49m\n\u001b[0;32m   1223\u001b[0m \u001b[43m    \u001b[49m\u001b[43mmemory_map\u001b[49m\u001b[38;5;241;43m=\u001b[39;49m\u001b[38;5;28;43mself\u001b[39;49m\u001b[38;5;241;43m.\u001b[39;49m\u001b[43moptions\u001b[49m\u001b[38;5;241;43m.\u001b[39;49m\u001b[43mget\u001b[49m\u001b[43m(\u001b[49m\u001b[38;5;124;43m\"\u001b[39;49m\u001b[38;5;124;43mmemory_map\u001b[39;49m\u001b[38;5;124;43m\"\u001b[39;49m\u001b[43m,\u001b[49m\u001b[43m \u001b[49m\u001b[38;5;28;43;01mFalse\u001b[39;49;00m\u001b[43m)\u001b[49m\u001b[43m,\u001b[49m\n\u001b[0;32m   1224\u001b[0m \u001b[43m    \u001b[49m\u001b[43mis_text\u001b[49m\u001b[38;5;241;43m=\u001b[39;49m\u001b[43mis_text\u001b[49m\u001b[43m,\u001b[49m\n\u001b[0;32m   1225\u001b[0m \u001b[43m    \u001b[49m\u001b[43merrors\u001b[49m\u001b[38;5;241;43m=\u001b[39;49m\u001b[38;5;28;43mself\u001b[39;49m\u001b[38;5;241;43m.\u001b[39;49m\u001b[43moptions\u001b[49m\u001b[38;5;241;43m.\u001b[39;49m\u001b[43mget\u001b[49m\u001b[43m(\u001b[49m\u001b[38;5;124;43m\"\u001b[39;49m\u001b[38;5;124;43mencoding_errors\u001b[39;49m\u001b[38;5;124;43m\"\u001b[39;49m\u001b[43m,\u001b[49m\u001b[43m \u001b[49m\u001b[38;5;124;43m\"\u001b[39;49m\u001b[38;5;124;43mstrict\u001b[39;49m\u001b[38;5;124;43m\"\u001b[39;49m\u001b[43m)\u001b[49m\u001b[43m,\u001b[49m\n\u001b[0;32m   1226\u001b[0m \u001b[43m    \u001b[49m\u001b[43mstorage_options\u001b[49m\u001b[38;5;241;43m=\u001b[39;49m\u001b[38;5;28;43mself\u001b[39;49m\u001b[38;5;241;43m.\u001b[39;49m\u001b[43moptions\u001b[49m\u001b[38;5;241;43m.\u001b[39;49m\u001b[43mget\u001b[49m\u001b[43m(\u001b[49m\u001b[38;5;124;43m\"\u001b[39;49m\u001b[38;5;124;43mstorage_options\u001b[39;49m\u001b[38;5;124;43m\"\u001b[39;49m\u001b[43m,\u001b[49m\u001b[43m \u001b[49m\u001b[38;5;28;43;01mNone\u001b[39;49;00m\u001b[43m)\u001b[49m\u001b[43m,\u001b[49m\n\u001b[0;32m   1227\u001b[0m \u001b[43m\u001b[49m\u001b[43m)\u001b[49m\n\u001b[0;32m   1228\u001b[0m \u001b[38;5;28;01massert\u001b[39;00m \u001b[38;5;28mself\u001b[39m\u001b[38;5;241m.\u001b[39mhandles \u001b[38;5;129;01mis\u001b[39;00m \u001b[38;5;129;01mnot\u001b[39;00m \u001b[38;5;28;01mNone\u001b[39;00m\n\u001b[0;32m   1229\u001b[0m f \u001b[38;5;241m=\u001b[39m \u001b[38;5;28mself\u001b[39m\u001b[38;5;241m.\u001b[39mhandles\u001b[38;5;241m.\u001b[39mhandle\n",
      "File \u001b[1;32m~\\miniconda3\\lib\\site-packages\\pandas\\io\\common.py:786\u001b[0m, in \u001b[0;36mget_handle\u001b[1;34m(path_or_buf, mode, encoding, compression, memory_map, is_text, errors, storage_options)\u001b[0m\n\u001b[0;32m    781\u001b[0m \u001b[38;5;28;01melif\u001b[39;00m \u001b[38;5;28misinstance\u001b[39m(handle, \u001b[38;5;28mstr\u001b[39m):\n\u001b[0;32m    782\u001b[0m     \u001b[38;5;66;03m# Check whether the filename is to be opened in binary mode.\u001b[39;00m\n\u001b[0;32m    783\u001b[0m     \u001b[38;5;66;03m# Binary mode does not support 'encoding' and 'newline'.\u001b[39;00m\n\u001b[0;32m    784\u001b[0m     \u001b[38;5;28;01mif\u001b[39;00m ioargs\u001b[38;5;241m.\u001b[39mencoding \u001b[38;5;129;01mand\u001b[39;00m \u001b[38;5;124m\"\u001b[39m\u001b[38;5;124mb\u001b[39m\u001b[38;5;124m\"\u001b[39m \u001b[38;5;129;01mnot\u001b[39;00m \u001b[38;5;129;01min\u001b[39;00m ioargs\u001b[38;5;241m.\u001b[39mmode:\n\u001b[0;32m    785\u001b[0m         \u001b[38;5;66;03m# Encoding\u001b[39;00m\n\u001b[1;32m--> 786\u001b[0m         handle \u001b[38;5;241m=\u001b[39m \u001b[38;5;28;43mopen\u001b[39;49m\u001b[43m(\u001b[49m\n\u001b[0;32m    787\u001b[0m \u001b[43m            \u001b[49m\u001b[43mhandle\u001b[49m\u001b[43m,\u001b[49m\n\u001b[0;32m    788\u001b[0m \u001b[43m            \u001b[49m\u001b[43mioargs\u001b[49m\u001b[38;5;241;43m.\u001b[39;49m\u001b[43mmode\u001b[49m\u001b[43m,\u001b[49m\n\u001b[0;32m    789\u001b[0m \u001b[43m            \u001b[49m\u001b[43mencoding\u001b[49m\u001b[38;5;241;43m=\u001b[39;49m\u001b[43mioargs\u001b[49m\u001b[38;5;241;43m.\u001b[39;49m\u001b[43mencoding\u001b[49m\u001b[43m,\u001b[49m\n\u001b[0;32m    790\u001b[0m \u001b[43m            \u001b[49m\u001b[43merrors\u001b[49m\u001b[38;5;241;43m=\u001b[39;49m\u001b[43merrors\u001b[49m\u001b[43m,\u001b[49m\n\u001b[0;32m    791\u001b[0m \u001b[43m            \u001b[49m\u001b[43mnewline\u001b[49m\u001b[38;5;241;43m=\u001b[39;49m\u001b[38;5;124;43m\"\u001b[39;49m\u001b[38;5;124;43m\"\u001b[39;49m\u001b[43m,\u001b[49m\n\u001b[0;32m    792\u001b[0m \u001b[43m        \u001b[49m\u001b[43m)\u001b[49m\n\u001b[0;32m    793\u001b[0m     \u001b[38;5;28;01melse\u001b[39;00m:\n\u001b[0;32m    794\u001b[0m         \u001b[38;5;66;03m# Binary mode\u001b[39;00m\n\u001b[0;32m    795\u001b[0m         handle \u001b[38;5;241m=\u001b[39m \u001b[38;5;28mopen\u001b[39m(handle, ioargs\u001b[38;5;241m.\u001b[39mmode)\n",
      "\u001b[1;31mFileNotFoundError\u001b[0m: [Errno 2] No such file or directory: 'tokyo_airbnb.csv'"
     ]
    }
   ],
   "source": [
    "datos = pd.read_csv('tokyo_airbnb.csv')"
   ]
  },
  {
   "cell_type": "markdown",
   "id": "6b9cd8c5",
   "metadata": {},
   "source": [
    "### 1.2 Exploración de datos"
   ]
  },
  {
   "cell_type": "markdown",
   "id": "8bd2a785",
   "metadata": {},
   "source": [
    "### 1.3. Verificar calidad de datos"
   ]
  },
  {
   "cell_type": "markdown",
   "id": "5d115ee3",
   "metadata": {},
   "source": [
    "## Fase 2. Preparación de datos"
   ]
  },
  {
   "cell_type": "markdown",
   "id": "211d28de",
   "metadata": {},
   "source": [
    "### 2.1. Seleccionar los datos"
   ]
  },
  {
   "cell_type": "markdown",
   "id": "2eeff398",
   "metadata": {},
   "source": [
    "### 2.2. Limpiar los datos (Amputación e Imputación)"
   ]
  },
  {
   "cell_type": "markdown",
   "id": "bc03ec75",
   "metadata": {},
   "source": [
    "### 2.3. Construcción de los datos"
   ]
  },
  {
   "cell_type": "markdown",
   "id": "fbbac41a",
   "metadata": {},
   "source": [
    "## Fase 3. Visualización de datos"
   ]
  },
  {
   "cell_type": "markdown",
   "id": "7d4720c1",
   "metadata": {},
   "source": []
  },
  {
   "cell_type": "markdown",
   "id": "6a7f07c0",
   "metadata": {},
   "source": []
  },
  {
   "cell_type": "markdown",
   "id": "a3bbb6c0",
   "metadata": {},
   "source": []
  },
  {
   "cell_type": "markdown",
   "id": "8080493b",
   "metadata": {},
   "source": []
  },
  {
   "cell_type": "markdown",
   "id": "157b3751",
   "metadata": {},
   "source": [
    "##### etc....."
   ]
  },
  {
   "cell_type": "markdown",
   "id": "3347e0ea",
   "metadata": {},
   "source": [
    "# Fase 1. Entendimiento de datos"
   ]
  },
  {
   "cell_type": "markdown",
   "id": "2ac8c717",
   "metadata": {},
   "source": [
    "## 1.1. Descripción de los datos"
   ]
  },
  {
   "cell_type": "code",
   "execution_count": null,
   "id": "2d66dc4e",
   "metadata": {},
   "outputs": [],
   "source": [
    "datos = pd.read_csv('tokyo_airbnb.csv')"
   ]
  },
  {
   "cell_type": "code",
   "execution_count": null,
   "id": "7f06a956",
   "metadata": {
    "scrolled": false
   },
   "outputs": [],
   "source": [
    "datos.describe()"
   ]
  },
  {
   "cell_type": "code",
   "execution_count": null,
   "id": "c9a7a5ab",
   "metadata": {},
   "outputs": [],
   "source": [
    "## Si vemos la información aquí mostrada vemos que no se se encuentran todas las columnas de nuestros datos."
   ]
  },
  {
   "cell_type": "code",
   "execution_count": null,
   "id": "5ebe8964",
   "metadata": {},
   "outputs": [],
   "source": [
    "## Con (incluide=\"all\" vemos seguidamente que ya aparecen todas y con más información)"
   ]
  },
  {
   "cell_type": "code",
   "execution_count": null,
   "id": "bb63ae3c",
   "metadata": {},
   "outputs": [],
   "source": [
    "datos.describe(include=\"all\")"
   ]
  },
  {
   "cell_type": "markdown",
   "id": "c35830c2",
   "metadata": {},
   "source": [
    "## 1.2 Exploración básica del dataset"
   ]
  },
  {
   "cell_type": "code",
   "execution_count": null,
   "id": "6f3c9926",
   "metadata": {},
   "outputs": [],
   "source": [
    "datos"
   ]
  },
  {
   "cell_type": "code",
   "execution_count": null,
   "id": "3a4100d6",
   "metadata": {},
   "outputs": [],
   "source": [
    "datos.info()"
   ]
  },
  {
   "cell_type": "markdown",
   "id": "e78fcf14",
   "metadata": {},
   "source": [
    "#### Descubierto por una simple descripción de los datos:\n",
    "\n",
    "##### 1. Hay 14 columnas de características en total, cada una con 11466 datos.\n",
    "##### 2. Hay 4 columnas con algún grado de falta (host_name/neighbourhood_group/last_review/reviews_per_month)"
   ]
  },
  {
   "cell_type": "code",
   "execution_count": null,
   "id": "4aa5ae66",
   "metadata": {},
   "outputs": [],
   "source": [
    "datos['host_name'].fillna(0,inplace = True)"
   ]
  },
  {
   "cell_type": "code",
   "execution_count": null,
   "id": "cff8463c",
   "metadata": {},
   "outputs": [],
   "source": [
    "datos['last_review'].fillna(0,inplace = True)"
   ]
  },
  {
   "cell_type": "code",
   "execution_count": null,
   "id": "10b2e7b7",
   "metadata": {},
   "outputs": [],
   "source": [
    "datos['reviews_per_month'].fillna(0,inplace = True)"
   ]
  },
  {
   "cell_type": "code",
   "execution_count": null,
   "id": "e52e9fef",
   "metadata": {},
   "outputs": [],
   "source": [
    "datos = datos.drop(columns='neighbourhood_group')\n",
    "datos"
   ]
  },
  {
   "cell_type": "code",
   "execution_count": null,
   "id": "447533c6",
   "metadata": {
    "scrolled": true
   },
   "outputs": [],
   "source": [
    "datos.info()"
   ]
  },
  {
   "cell_type": "markdown",
   "id": "daff5c70",
   "metadata": {},
   "source": [
    "### Primero, un procesamiento simple y descripción de algunas características."
   ]
  },
  {
   "cell_type": "code",
   "execution_count": null,
   "id": "911cb3bc",
   "metadata": {
    "scrolled": true
   },
   "outputs": [],
   "source": [
    "distritos = datos['neighbourhood'].unique()"
   ]
  },
  {
   "cell_type": "code",
   "execution_count": null,
   "id": "a5e18760",
   "metadata": {},
   "outputs": [],
   "source": [
    "datos.count()"
   ]
  },
  {
   "cell_type": "code",
   "execution_count": null,
   "id": "1221973f",
   "metadata": {
    "scrolled": true
   },
   "outputs": [],
   "source": [
    "print(distritos)"
   ]
  },
  {
   "cell_type": "code",
   "execution_count": null,
   "id": "bf40e8e0",
   "metadata": {},
   "outputs": [],
   "source": [
    "## Verificar cómo afecta tanto el barrio como el tipo de alojamiento al precio del alquiler. \n",
    "## En este sentido,podemos observar que Hachioji Shi es el barrio más caro a la hora de buscar alquiler, \n",
    "## y que una casa entera sería el tipo de alojamiento con el precio más elevado."
   ]
  },
  {
   "cell_type": "code",
   "execution_count": null,
   "id": "9bee74cb",
   "metadata": {
    "scrolled": false
   },
   "outputs": [],
   "source": [
    "datos[\"neighbourhood\"].unique()\n",
    "datos[\"room_type\"].unique()\n",
    "\n",
    "\n",
    "x1 =['']\n",
    "x2 =['']\n",
    "\n",
    "\n",
    "y1 = datos.groupby(by=\"neighbourhood\").mean().price\n",
    "y2 = datos.groupby(by=\"room_type\").mean().price\n",
    "\n",
    "\n",
    "width=0.8\n",
    "\n",
    "\n",
    "neighbourhood_colors = [(255/255, 127/255, 14/255),(31/255, 119/255, 180/255),(214/255, 39/255, 40/255),\n",
    "                        (44/255, 160/255, 44/255),(148/255, 103/255, 189/255)]\n",
    "\n",
    "\n",
    "room_colors = [(174/255, 199/255, 232/255),(23/255, 190/255, 207/255),(31/255, 119/255, 180/255)]\n",
    "\n",
    "\n",
    "plt.figure(figsize=(20,10))\n",
    "\n",
    "\n",
    "ax1=plt.subplot(1, 2, 1)\n",
    "ax2=plt.subplot(1, 2, 2)\n",
    "\n",
    "\n",
    "ax1.bar(x1,y1,width, color = neighbourhood_colors)\n",
    "ax1.set_title(\"Precio medio por barrio\")\n",
    "\n",
    "\n",
    "ax2.bar(x2,y2,width, color = room_colors)\n",
    "ax2.set_title(\"Precio medio por tipo de alojamiento\")\n",
    "\n",
    "\n",
    "plt.show()\n",
    "\n",
    "\n",
    "distintos_barrios = datos.groupby([\"neighbourhood\"]).agg({\"price\":\"mean\"})\n",
    "tipos_rooms = datos.groupby([\"room_type\"]).agg({\"price\":\"mean\"})\n",
    "\n",
    "\n",
    "display(distintos_barrios)\n",
    "display(tipos_rooms)\n",
    "\n",
    "\n",
    "fig.show()"
   ]
  },
  {
   "cell_type": "markdown",
   "id": "9c92c566",
   "metadata": {},
   "source": [
    "### A continuación, y combinando la información de los gráficos anteriores, podemos tener una idea más exacta de cómo se comporta el precio medio del alquiler aglutinando ambas variables: barrio y tipo de vivienda"
   ]
  },
  {
   "cell_type": "code",
   "execution_count": null,
   "id": "13e2a461",
   "metadata": {},
   "outputs": [],
   "source": [
    "x=['Bronx', 'Brooklyn', 'Manhattan','Queens', 'Staten Island']\n",
    "\n",
    "\n",
    "y1=raw_ny_df[raw_ny_df[\"room_type\"]==\"Private room\"].groupby(by=\"neighbourhood_group\").mean().price\n",
    "y2=raw_ny_df[raw_ny_df[\"room_type\"]==\"Shared room\"].groupby(by=\"neighbourhood_group\").mean().price\n",
    "y3=raw_ny_df[raw_ny_df[\"room_type\"]==\"Entire home/apt\"].groupby(by=\"neighbourhood_group\").mean().price\n",
    "\n"
   ]
  },
  {
   "cell_type": "raw",
   "id": "7b640c82",
   "metadata": {},
   "source": [
    "# Hay tres tipos de habitaciones en total: conjunto completo, habitación individual y habitación para varias personas\n",
    "datos['room_type'].unique()"
   ]
  },
  {
   "cell_type": "code",
   "execution_count": null,
   "id": "ba4337ee",
   "metadata": {
    "scrolled": true
   },
   "outputs": [],
   "source": [
    "#El análisis de las salas muestra que la mayoría de ellas se alquilan en conjunto, y pocas salas públicas se alquilan.\n",
    "plt.subplot(311)\n",
    "data = datos['room_type'].value_counts().tolist()\n",
    "a = datos['room_type'].unique()\n",
    "plt.bar(x=a, height=data)"
   ]
  },
  {
   "cell_type": "code",
   "execution_count": null,
   "id": "1a16965b",
   "metadata": {},
   "outputs": [],
   "source": [
    "#Se puede ver que host_name está relativamente concentrado, lo que puede confirmar la conclusión extraída en las listas de host_calculadas en el tipo continuo anterior.Vamos a verlo en detalle.\n",
    "datos[['host_name','name']].groupby('host_name').count().sort_values(by='name', ascending=False)"
   ]
  },
  {
   "cell_type": "code",
   "execution_count": null,
   "id": "3cbd332d",
   "metadata": {},
   "outputs": [],
   "source": [
    "#La ubicación de la casa de familia está relativamente concentrada, aquí hay una mirada específica a las áreas\n",
    "datos['neighbourhood'].value_counts()"
   ]
  },
  {
   "cell_type": "code",
   "execution_count": null,
   "id": "6a66726a",
   "metadata": {},
   "outputs": [],
   "source": [
    "datos['neighbourhood'].value_counts().index[0]"
   ]
  },
  {
   "cell_type": "markdown",
   "id": "75ef7d5d",
   "metadata": {},
   "source": [
    "### La mayoría de las casas se concentran en el distrito de 'Shinjuku Ku', 'Taito Ku' y 'Toshima Ku'  .\n",
    "### El tipo de habitación se basa básicamente en todo el grupo, complementado con una habitación individual, hay menos habitaciones para varias personas"
   ]
  },
  {
   "cell_type": "markdown",
   "id": "cf160ce8",
   "metadata": {},
   "source": [
    "## Explorar Metas\n",
    "#### 1.Región (distribución, precio)\n",
    "#### 2.Casas de familia (top 10 casas de familia más populares, cuáles son las características de las casas de familia más populares)\n",
    "#### 3.Perspectiva del arrendador (clasificación de los tipos de arrendadores, estimaciones de los ingresos de los arrendadores)"
   ]
  },
  {
   "cell_type": "code",
   "execution_count": null,
   "id": "5e7204df",
   "metadata": {},
   "outputs": [],
   "source": [
    "token = 'pk.eyJ1Ijoid2VubGxhIiwiYSI6ImNsNnhmcjFmcjBzbjQzZHFsNXB3YXc0cHAifQ.Yhi8lAIuVUiXA8TltkAMIw'\n",
    "px.set_mapbox_access_token(token)\n",
    "\n",
    "fig = px.scatter_mapbox(datos,\n",
    "                        lat=datos['latitude'],\n",
    "                        lon=datos['longitude'],\n",
    "                        color_continuous_scale=px.colors.cyclical.IceFire,\n",
    "                        size_max=15,\n",
    "                        zoom=9\n",
    "                       )\n",
    "fig.show()\n",
    "fig.write_html('tokyo_airbnb.html')"
   ]
  },
  {
   "cell_type": "code",
   "execution_count": null,
   "id": "d42e9a66",
   "metadata": {},
   "outputs": [],
   "source": [
    "values = datos.neighbourhood.value_counts()\n",
    "names = datos.neighbourhood.unique().tolist()\n",
    "fig = px.pie(datos, values=values, names=names, title='Mapa distribución zona B&B')\n",
    "fig.update_traces(textposition='inside', textinfo='percent+label')\n",
    "fig.show()"
   ]
  },
  {
   "cell_type": "markdown",
   "id": "bf4cfddd",
   "metadata": {},
   "source": [
    "### Descubre explorando:\n",
    "\n",
    "#### 1. Más del 60 % de las celebridades se concentran en las tres áreas centrales de Tokyo, el distrito de 'Shibuya Ku', 'Sumida Ku' y 'Nerima Ku'.\n",
    "#### 2. Para las áreas alrededor del distrito de  'Shibuya Ku', 'Sumida Ku' y 'Nerima Ku', la distribución de casas de familia también está cerca de los límites de estas tres áreas, especialmente 'Setagaya Ku' y 'Arakawa Ku'.\n",
    "#### 3. Las áreas restantes están distribuidas de manera relativamente uniforme y no hay un centro obvio."
   ]
  },
  {
   "cell_type": "code",
   "execution_count": null,
   "id": "177c2a93",
   "metadata": {},
   "outputs": [],
   "source": [
    "#A continuación, continuaremos observando si el precio de las habitaciones en diferentes áreas será diferente\n",
    "#Para evitar la interferencia de algunos valores atípicos, verifiquemos la distribución de precios antes de realizar un procesamiento razonable\n",
    "sns.histplot(datos['price'],color='b')"
   ]
  },
  {
   "cell_type": "code",
   "execution_count": null,
   "id": "ee2fe6dc",
   "metadata": {},
   "outputs": [],
   "source": [
    "#Consulta los precios en cada región\n",
    "a = datos[['neighbourhood','price']].groupby(['neighbourhood','price']).count().reset_index()\n",
    "for i in names:\n",
    "    plt.hist(a[a['neighbourhood']==i].price)\n",
    "    plt.xlabel(i)\n",
    "    plt.show()"
   ]
  },
  {
   "cell_type": "code",
   "execution_count": null,
   "id": "dd2b271b",
   "metadata": {},
   "outputs": [],
   "source": [
    "b = pd.DataFrame(datos['neighbourhood'].unique(),columns=['área'])\n",
    "b['precio alto'] = datos[['price','neighbourhood']].groupby('neighbourhood').max().price.tolist()\n",
    "b['precio bajo'] = datos[['price','neighbourhood']].groupby('neighbourhood').min().price.tolist()\n",
    "b['precio mediano'] = datos[['price','neighbourhood']].groupby('neighbourhood').median().price.tolist()\n",
    "b['25% de precio'] = datos[['price','neighbourhood']].groupby('neighbourhood').quantile(0.25).price.tolist()\n",
    "b['75% de precio'] = datos[['price','neighbourhood']].groupby('neighbourhood').quantile(0.75).price.tolist()\n",
    "b['cuartil'] = np.array(datos[['price','neighbourhood']].groupby('neighbourhood').quantile(0.75).price.tolist()) - np.array(datos[['price','neighbourhood']].groupby('neighbourhood').quantile(0.25).price.tolist())\n",
    "b"
   ]
  },
  {
   "cell_type": "code",
   "execution_count": null,
   "id": "d540adae",
   "metadata": {},
   "outputs": [],
   "source": [
    "b['precio mediano'].max()"
   ]
  },
  {
   "cell_type": "markdown",
   "id": "d2cf299e",
   "metadata": {},
   "source": [
    "### Del análisis anterior, se puede concluir que\n",
    "#### 1.El precio de las casas de familia en Shinagawa Ku es generalmente el más alto (89955.0), seguido de Katsushika Ku (50035.0), y el tercero es Hinohara Mura (28460.5), y los precios de estas tres áreas están ampliamente distribuidos.\n",
    "#### 2.Sumida Ku, Shibuya Ku y Katsushika Ku, que tienen la mayor cantidad de casas de familia, tienen un precio de alrededor de 7.000, lo que explica en cierta medida la razón de la gran cantidad de casas de familia en la región.\n",
    "#### 3.Hay una gran diferencia entre el precio más alto y el precio más bajo en cada área, y el precio más alto en algunas áreas supera el millón de yuanes. No está claro si es un valor anormal o si el precio de la casa de familia en sí es tan alto. puede analizarse más a fondo en el área de grandes conjuntos de datos."
   ]
  },
  {
   "cell_type": "markdown",
   "id": "c838ca09",
   "metadata": {},
   "source": [
    "## Airbnb\n",
    "### *top10 más populares\n",
    "### *¿Por qué es el más popular?"
   ]
  },
  {
   "cell_type": "code",
   "execution_count": null,
   "id": "705425e6",
   "metadata": {},
   "outputs": [],
   "source": [
    "# Aquí, por el momento, creemos que una reseña representa a un huésped, y aquellos con una reseña promedio/revisión mensual superior al 75 % de los dígitos son los B&B más populares.\n",
    "avg_review = datos['number_of_reviews'].quantile(0.9)\n",
    "avg_month_review = datos['reviews_per_month'].quantile(0.9)\n",
    "print(avg_review)\n",
    "print(avg_month_review)"
   ]
  },
  {
   "cell_type": "code",
   "execution_count": null,
   "id": "4d4c2f2c",
   "metadata": {},
   "outputs": [],
   "source": [
    "popular_house = datos[(datos['number_of_reviews']>avg_review) & (datos['reviews_per_month']>avg_month_review)]\n",
    "popular_house.sort_values(by=['number_of_reviews','reviews_per_month'],ascending=False).head(10)"
   ]
  },
  {
   "cell_type": "markdown",
   "id": "b10fbaa6",
   "metadata": {},
   "source": [
    "### La mayoría de las casas de familia más populares están en Shinjuku Ku (4 casas), algunas están en Katsushika Ku y Katsushika Ku y Taito Ku (2 cada una).\n",
    "### Las 10 casas de familia más populares son Entire. Se considera temporalmente que si desea hacer casas de familia, el Entire puede ser una buena opción."
   ]
  },
  {
   "cell_type": "code",
   "execution_count": null,
   "id": "8a50e6b1",
   "metadata": {},
   "outputs": [],
   "source": []
  }
 ],
 "metadata": {
  "kernelspec": {
   "display_name": "Python 3 (ipykernel)",
   "language": "python",
   "name": "python3"
  },
  "language_info": {
   "codemirror_mode": {
    "name": "ipython",
    "version": 3
   },
   "file_extension": ".py",
   "mimetype": "text/x-python",
   "name": "python",
   "nbconvert_exporter": "python",
   "pygments_lexer": "ipython3",
   "version": "3.9.12"
  }
 },
 "nbformat": 4,
 "nbformat_minor": 5
}
