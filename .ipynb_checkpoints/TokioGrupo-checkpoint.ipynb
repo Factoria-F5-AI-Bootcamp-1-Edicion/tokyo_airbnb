{
 "cells": [
  {
   "cell_type": "markdown",
   "id": "59f71387",
   "metadata": {},
   "source": [
    "# Análisis y visualización de datos de Tokyo_Airbnb "
   ]
  },
  {
   "cell_type": "markdown",
   "id": "3448e0e3",
   "metadata": {},
   "source": [
    "<img src=\"https://upload.wikimedia.org/wikipedia/commons/6/69/Airbnb_Logo_B%C3%A9lo.svg\" style= \"height:150px;float:left;\">"
   ]
  },
  {
   "cell_type": "markdown",
   "id": "5c618e3f",
   "metadata": {},
   "source": [
    "### Fases"
   ]
  },
  {
   "cell_type": "markdown",
   "id": "8d4853ba",
   "metadata": {},
   "source": [
    "# Fase 1. Entendimiento de datos"
   ]
  },
  {
   "cell_type": "markdown",
   "id": "b9a2b759",
   "metadata": {},
   "source": [
    "# Importar librerias"
   ]
  },
  {
   "cell_type": "code",
   "execution_count": 3,
   "id": "83afa9c4",
   "metadata": {},
   "outputs": [
    {
     "ename": "ModuleNotFoundError",
     "evalue": "No module named 'geopandas'",
     "output_type": "error",
     "traceback": [
      "\u001b[1;31m---------------------------------------------------------------------------\u001b[0m",
      "\u001b[1;31mModuleNotFoundError\u001b[0m                       Traceback (most recent call last)",
      "Input \u001b[1;32mIn [3]\u001b[0m, in \u001b[0;36m<cell line: 5>\u001b[1;34m()\u001b[0m\n\u001b[0;32m      3\u001b[0m \u001b[38;5;28;01mimport\u001b[39;00m \u001b[38;5;21;01mseaborn\u001b[39;00m \u001b[38;5;28;01mas\u001b[39;00m \u001b[38;5;21;01msns\u001b[39;00m\n\u001b[0;32m      4\u001b[0m \u001b[38;5;28;01mimport\u001b[39;00m \u001b[38;5;21;01mmatplotlib\u001b[39;00m\u001b[38;5;21;01m.\u001b[39;00m\u001b[38;5;21;01mpyplot\u001b[39;00m \u001b[38;5;28;01mas\u001b[39;00m \u001b[38;5;21;01mplt\u001b[39;00m\n\u001b[1;32m----> 5\u001b[0m \u001b[38;5;28;01mimport\u001b[39;00m \u001b[38;5;21;01mgeopandas\u001b[39;00m \u001b[38;5;28;01mas\u001b[39;00m \u001b[38;5;21;01mgpd\u001b[39;00m\n\u001b[0;32m      6\u001b[0m \u001b[38;5;28;01mimport\u001b[39;00m \u001b[38;5;21;01mplotly\u001b[39;00m\u001b[38;5;21;01m.\u001b[39;00m\u001b[38;5;21;01mexpress\u001b[39;00m \u001b[38;5;28;01mas\u001b[39;00m \u001b[38;5;21;01mpx\u001b[39;00m\n\u001b[0;32m      7\u001b[0m \u001b[38;5;28;01mfrom\u001b[39;00m \u001b[38;5;21;01mIPython\u001b[39;00m\u001b[38;5;21;01m.\u001b[39;00m\u001b[38;5;21;01mdisplay\u001b[39;00m \u001b[38;5;28;01mimport\u001b[39;00m HTML\n",
      "\u001b[1;31mModuleNotFoundError\u001b[0m: No module named 'geopandas'"
     ]
    }
   ],
   "source": [
    "import numpy as np\n",
    "import pandas as pd\n",
    "import seaborn as sns\n",
    "import matplotlib.pyplot as plt\n",
    "import geopandas as gpd\n",
    "import plotly.express as px\n",
    "from IPython.display import HTML\n",
    "import plotly.io as pio"
   ]
  },
  {
   "cell_type": "code",
   "execution_count": null,
   "id": "ba66b041",
   "metadata": {},
   "outputs": [],
   "source": [
    "#leer datos\n",
    "datos = pd.read_csv('tokyo_airbnb.csv')"
   ]
  },
  {
   "cell_type": "markdown",
   "id": "0a913ebf",
   "metadata": {},
   "source": [
    "1.1. Descripción de los datos"
   ]
  },
  {
   "cell_type": "code",
   "execution_count": null,
   "id": "3a4100d6",
   "metadata": {
    "scrolled": true
   },
   "outputs": [],
   "source": [
    "datos.info()"
   ]
  },
  {
   "cell_type": "markdown",
   "id": "6b9cd8c5",
   "metadata": {},
   "source": [
    "1.2 Exploración de datos"
   ]
  },
  {
   "cell_type": "code",
   "execution_count": null,
   "id": "2390c0d5",
   "metadata": {},
   "outputs": [],
   "source": [
    "1.3. Verificar calidad de datos"
   ]
  },
  {
   "cell_type": "markdown",
   "id": "5d115ee3",
   "metadata": {},
   "source": [
    "# Fase 2. Preparación de datos"
   ]
  },
  {
   "cell_type": "markdown",
   "id": "211d28de",
   "metadata": {},
   "source": [
    "2.1. Seleccionar los datos"
   ]
  },
  {
   "cell_type": "code",
   "execution_count": null,
   "id": "789a0000",
   "metadata": {},
   "outputs": [],
   "source": [
    "2.2. Limpiar los datos (Amputación e Imputación)"
   ]
  },
  {
   "cell_type": "code",
   "execution_count": null,
   "id": "470a8811",
   "metadata": {},
   "outputs": [],
   "source": [
    "2.3. Construcción de los datos"
   ]
  },
  {
   "cell_type": "markdown",
   "id": "fbbac41a",
   "metadata": {},
   "source": [
    "# Fase 3. Visualización de datos"
   ]
  },
  {
   "cell_type": "markdown",
   "id": "7d4720c1",
   "metadata": {},
   "source": []
  },
  {
   "cell_type": "markdown",
   "id": "6a7f07c0",
   "metadata": {},
   "source": []
  },
  {
   "cell_type": "markdown",
   "id": "a3bbb6c0",
   "metadata": {},
   "source": []
  },
  {
   "cell_type": "markdown",
   "id": "8080493b",
   "metadata": {},
   "source": []
  },
  {
   "cell_type": "markdown",
   "id": "157b3751",
   "metadata": {},
   "source": [
    "##### etc....."
   ]
  },
  {
   "cell_type": "markdown",
   "id": "7092e417",
   "metadata": {},
   "source": [
    "# Fase 1. Entendimiento de datos"
   ]
  },
  {
   "cell_type": "markdown",
   "id": "82704fd1",
   "metadata": {},
   "source": [
    "## 1.1. Descripción de los datos"
   ]
  },
  {
   "cell_type": "code",
   "execution_count": null,
   "id": "2bfe0dd9",
   "metadata": {},
   "outputs": [],
   "source": []
  },
  {
   "cell_type": "code",
   "execution_count": null,
   "id": "6b1d2c83",
   "metadata": {},
   "outputs": [],
   "source": []
  },
  {
   "cell_type": "code",
   "execution_count": null,
   "id": "d41168da",
   "metadata": {},
   "outputs": [],
   "source": []
  },
  {
   "cell_type": "code",
   "execution_count": null,
   "id": "4fc18607",
   "metadata": {},
   "outputs": [],
   "source": []
  },
  {
   "cell_type": "markdown",
   "id": "c35830c2",
   "metadata": {},
   "source": [
    "## 1.2 Exploración básica del dataset"
   ]
  },
  {
   "cell_type": "code",
   "execution_count": null,
   "id": "6f3c9926",
   "metadata": {},
   "outputs": [],
   "source": [
    "datos"
   ]
  },
  {
   "cell_type": "markdown",
   "id": "e78fcf14",
   "metadata": {},
   "source": [
    "#### Descubierto por una simple descripción de los datos:\n",
    "\n",
    "##### 1.Hay 14 columnas de características en total, cada una con11466 datos.\n",
    "##### 2.Hay 4 columnas con algún grado de falta (host_name/neighbourhood_group/last_review/reviews_per_month)"
   ]
  },
  {
   "cell_type": "code",
   "execution_count": null,
   "id": "4aa5ae66",
   "metadata": {},
   "outputs": [],
   "source": [
    "datos['host_name'].fillna(0,inplace = True)"
   ]
  },
  {
   "cell_type": "code",
   "execution_count": null,
   "id": "cff8463c",
   "metadata": {},
   "outputs": [],
   "source": [
    "datos['last_review'].fillna(0,inplace = True)"
   ]
  },
  {
   "cell_type": "code",
   "execution_count": null,
   "id": "10b2e7b7",
   "metadata": {},
   "outputs": [],
   "source": [
    "datos['reviews_per_month'].fillna(0,inplace = True)"
   ]
  },
  {
   "cell_type": "code",
   "execution_count": null,
   "id": "e52e9fef",
   "metadata": {},
   "outputs": [],
   "source": [
    "datos = datos.drop(columns='neighbourhood_group')\n",
    "datos"
   ]
  },
  {
   "cell_type": "code",
   "execution_count": null,
   "id": "447533c6",
   "metadata": {},
   "outputs": [],
   "source": [
    "datos.info()"
   ]
  },
  {
   "cell_type": "markdown",
   "id": "daff5c70",
   "metadata": {},
   "source": [
    "### Primero, un procesamiento simple y descripción de algunas características."
   ]
  },
  {
   "cell_type": "code",
   "execution_count": null,
   "id": "911cb3bc",
   "metadata": {},
   "outputs": [],
   "source": [
    "datos['neighbourhood'].unique()"
   ]
  },
  {
   "cell_type": "code",
   "execution_count": null,
   "id": "86304164",
   "metadata": {},
   "outputs": [],
   "source": [
    "# Hay tres tipos de habitaciones en total: conjunto completo, habitación individual y habitación para varias personas\n",
    "datos['room_type'].unique()"
   ]
  },
  {
   "cell_type": "code",
   "execution_count": null,
   "id": "ba4337ee",
   "metadata": {},
   "outputs": [],
   "source": [
    "#El análisis de las salas muestra que la mayoría de ellas se alquilan en conjunto, y pocas salas públicas se alquilan.\n",
    "plt.subplot(311)\n",
    "data = datos['room_type'].value_counts().tolist()\n",
    "a = datos['room_type'].unique()\n",
    "plt.bar(x=a, height=data)"
   ]
  },
  {
   "cell_type": "code",
   "execution_count": null,
   "id": "1a16965b",
   "metadata": {},
   "outputs": [],
   "source": [
    "#Se puede ver que host_name está relativamente concentrado, lo que puede confirmar la conclusión extraída en las listas de host_calculadas en el tipo continuo anterior.Vamos a verlo en detalle.\n",
    "datos[['host_name','name']].groupby('host_name').count().sort_values(by='name', ascending=False)"
   ]
  },
  {
   "cell_type": "code",
   "execution_count": null,
   "id": "3cbd332d",
   "metadata": {
    "scrolled": true
   },
   "outputs": [],
   "source": [
    "#La ubicación de la casa de familia está relativamente concentrada, aquí hay una mirada específica a las áreas\n",
    "datos['neighbourhood'].value_counts()"
   ]
  },
  {
   "cell_type": "code",
   "execution_count": null,
   "id": "6a66726a",
   "metadata": {},
   "outputs": [],
   "source": [
    "datos['neighbourhood'].value_counts().index[0]"
   ]
  },
  {
   "cell_type": "markdown",
   "id": "75ef7d5d",
   "metadata": {},
   "source": [
    "### La mayoría de las casas se concentran en el distrito de 'Shinjuku Ku', 'Taito Ku' y 'Toshima Ku'  .\n",
    "### El tipo de habitación se basa básicamente en todo el grupo, complementado con una habitación individual, hay menos habitaciones para varias personas"
   ]
  },
  {
   "cell_type": "markdown",
   "id": "cf160ce8",
   "metadata": {},
   "source": [
    "## Explorar Metas\n",
    "#### 1.Región (distribución, precio)\n",
    "#### 2.Casas de familia (top 10 casas de familia más populares, cuáles son las características de las casas de familia más populares)\n",
    "#### 3.Perspectiva del arrendador (clasificación de los tipos de arrendadores, estimaciones de los ingresos de los arrendadores)"
   ]
  },
  {
   "cell_type": "code",
   "execution_count": null,
   "id": "5e7204df",
   "metadata": {},
   "outputs": [],
   "source": [
    "token = 'pk.eyJ1Ijoid2VubGxhIiwiYSI6ImNsNnhmcjFmcjBzbjQzZHFsNXB3YXc0cHAifQ.Yhi8lAIuVUiXA8TltkAMIw'\n",
    "px.set_mapbox_access_token(token)\n",
    "\n",
    "fig = px.scatter_mapbox(datos,\n",
    "                        lat=datos['latitude'],\n",
    "                        lon=datos['longitude'],\n",
    "                        color_continuous_scale=px.colors.cyclical.IceFire,\n",
    "                        size_max=15,\n",
    "                        zoom=9\n",
    "                       )\n",
    "fig.show()\n",
    "fig.write_html('tokyo_airbnb.html')"
   ]
  },
  {
   "cell_type": "code",
   "execution_count": null,
   "id": "d42e9a66",
   "metadata": {},
   "outputs": [],
   "source": [
    "values = datos.neighbourhood.value_counts()\n",
    "names = datos.neighbourhood.unique().tolist()\n",
    "fig = px.pie(datos, values=values, names=names, title='Mapa distribución zona B&B')\n",
    "fig.update_traces(textposition='inside', textinfo='percent+label')\n",
    "fig.show()"
   ]
  },
  {
   "cell_type": "markdown",
   "id": "bf4cfddd",
   "metadata": {},
   "source": [
    "### Descubre explorando:\n",
    "\n",
    "#### 1. Más del 60 % de las celebridades se concentran en las tres áreas centrales de Tokyo, el distrito de 'Shibuya Ku', 'Sumida Ku' y 'Nerima Ku'.\n",
    "#### 2. Para las áreas alrededor del distrito de  'Shibuya Ku', 'Sumida Ku' y 'Nerima Ku', la distribución de casas de familia también está cerca de los límites de estas tres áreas, especialmente 'Setagaya Ku' y 'Arakawa Ku'.\n",
    "#### 3. Las áreas restantes están distribuidas de manera relativamente uniforme y no hay un centro obvio."
   ]
  },
  {
   "cell_type": "code",
   "execution_count": null,
   "id": "177c2a93",
   "metadata": {},
   "outputs": [],
   "source": [
    "#A continuación, continuaremos observando si el precio de las habitaciones en diferentes áreas será diferente\n",
    "#Para evitar la interferencia de algunos valores atípicos, verifiquemos la distribución de precios antes de realizar un procesamiento razonable\n",
    "sns.histplot(datos['price'],color='b')"
   ]
  },
  {
   "cell_type": "code",
   "execution_count": null,
   "id": "ee2fe6dc",
   "metadata": {},
   "outputs": [],
   "source": [
    "#Consulta los precios en cada región\n",
    "a = datos[['neighbourhood','price']].groupby(['neighbourhood','price']).count().reset_index()\n",
    "for i in names:\n",
    "    plt.hist(a[a['neighbourhood']==i].price)\n",
    "    plt.xlabel(i)\n",
    "    plt.show()"
   ]
  },
  {
   "cell_type": "code",
   "execution_count": null,
   "id": "dd2b271b",
   "metadata": {},
   "outputs": [],
   "source": [
    "b = pd.DataFrame(datos['neighbourhood'].unique(),columns=['área'])\n",
    "b['precio alto'] = datos[['price','neighbourhood']].groupby('neighbourhood').max().price.tolist()\n",
    "b['precio bajo'] = datos[['price','neighbourhood']].groupby('neighbourhood').min().price.tolist()\n",
    "b['precio mediano'] = datos[['price','neighbourhood']].groupby('neighbourhood').median().price.tolist()\n",
    "b['25% de precio'] = datos[['price','neighbourhood']].groupby('neighbourhood').quantile(0.25).price.tolist()\n",
    "b['75% de precio'] = datos[['price','neighbourhood']].groupby('neighbourhood').quantile(0.75).price.tolist()\n",
    "b['cuartil'] = np.array(datos[['price','neighbourhood']].groupby('neighbourhood').quantile(0.75).price.tolist()) - np.array(datos[['price','neighbourhood']].groupby('neighbourhood').quantile(0.25).price.tolist())\n",
    "b"
   ]
  },
  {
   "cell_type": "code",
   "execution_count": null,
   "id": "d540adae",
   "metadata": {},
   "outputs": [],
   "source": [
    "b['precio mediano'].max()"
   ]
  },
  {
   "cell_type": "markdown",
   "id": "d2cf299e",
   "metadata": {},
   "source": [
    "### Del análisis anterior, se puede concluir que\n",
    "#### 1.El precio de las casas de familia en Shinagawa Ku es generalmente el más alto (89955.0), seguido de Katsushika Ku (50035.0), y el tercero es Hinohara Mura (28460.5), y los precios de estas tres áreas están ampliamente distribuidos.\n",
    "#### 2.Sumida Ku, Shibuya Ku y Katsushika Ku, que tienen la mayor cantidad de casas de familia, tienen un precio de alrededor de 7.000, lo que explica en cierta medida la razón de la gran cantidad de casas de familia en la región.\n",
    "#### 3.Hay una gran diferencia entre el precio más alto y el precio más bajo en cada área, y el precio más alto en algunas áreas supera el millón de yuanes. No está claro si es un valor anormal o si el precio de la casa de familia en sí es tan alto. puede analizarse más a fondo en el área de grandes conjuntos de datos."
   ]
  },
  {
   "cell_type": "markdown",
   "id": "c838ca09",
   "metadata": {},
   "source": [
    "## Airbnb\n",
    "### *top10 más populares\n",
    "### *¿Por qué es el más popular?"
   ]
  },
  {
   "cell_type": "code",
   "execution_count": null,
   "id": "705425e6",
   "metadata": {},
   "outputs": [],
   "source": [
    "# Aquí, por el momento, creemos que una reseña representa a un huésped, y aquellos con una reseña promedio/revisión mensual superior al 75 % de los dígitos son los B&B más populares.\n",
    "avg_review = datos['number_of_reviews'].quantile(0.9)\n",
    "avg_month_review = datos['reviews_per_month'].quantile(0.9)\n",
    "print(avg_review)\n",
    "print(avg_month_review)"
   ]
  },
  {
   "cell_type": "code",
   "execution_count": null,
   "id": "4d4c2f2c",
   "metadata": {},
   "outputs": [],
   "source": [
    "popular_house = datos[(datos['number_of_reviews']>avg_review) & (datos['reviews_per_month']>avg_month_review)]\n",
    "popular_house.sort_values(by=['number_of_reviews','reviews_per_month'],ascending=False).head(10)"
   ]
  },
  {
   "cell_type": "markdown",
   "id": "b10fbaa6",
   "metadata": {},
   "source": [
    "### La mayoría de las casas de familia más populares están en Shinjuku Ku (4 casas), algunas están en Katsushika Ku y Katsushika Ku y Taito Ku (2 cada una).\n",
    "### Las 10 casas de familia más populares son Entire. Se considera temporalmente que si desea hacer casas de familia, el Entire puede ser una buena opción."
   ]
  },
  {
   "cell_type": "code",
   "execution_count": null,
   "id": "8a50e6b1",
   "metadata": {},
   "outputs": [],
   "source": []
  },
  {
   "cell_type": "code",
   "execution_count": null,
   "id": "07564f38",
   "metadata": {},
   "outputs": [],
   "source": []
  }
 ],
 "metadata": {
  "kernelspec": {
   "display_name": "Python 3 (ipykernel)",
   "language": "python",
   "name": "python3"
  },
  "language_info": {
   "codemirror_mode": {
    "name": "ipython",
    "version": 3
   },
   "file_extension": ".py",
   "mimetype": "text/x-python",
   "name": "python",
   "nbconvert_exporter": "python",
   "pygments_lexer": "ipython3",
   "version": "3.9.12"
  }
 },
 "nbformat": 4,
 "nbformat_minor": 5
}
